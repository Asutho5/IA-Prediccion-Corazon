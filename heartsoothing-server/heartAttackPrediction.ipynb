{
 "cells": [
  {
   "cell_type": "code",
   "execution_count": 32,
   "metadata": {},
   "outputs": [
    {
     "name": "stdout",
     "output_type": "stream",
     "text": [
      "   age  sex  cp  trtbps  chol  fbs  restecg  thalachh  exng  oldpeak  slp  \\\n",
      "0   63    1   3     145   233    1        0       150     0      2.3    0   \n",
      "1   37    1   2     130   250    0        1       187     0      3.5    0   \n",
      "2   41    0   1     130   204    0        0       172     0      1.4    2   \n",
      "3   56    1   1     120   236    0        1       178     0      0.8    2   \n",
      "4   57    0   0     120   354    0        1       163     1      0.6    2   \n",
      "\n",
      "   caa  thall  output  \n",
      "0    0      1       1  \n",
      "1    0      2       1  \n",
      "2    0      2       1  \n",
      "3    0      2       1  \n",
      "4    0      2       1  \n",
      "output\n",
      "1    165\n",
      "0    138\n",
      "Name: count, dtype: int64\n",
      "Train Accuracy:  0.8553719008264463\n",
      "Train Precision:  0.8299319727891157\n",
      "Train Recall:  0.9242424242424242\n",
      "Train F1 Score:  0.8745519713261649\n",
      "Test Accuracy:  0.8032786885245902\n",
      "Test Precision:  0.8181818181818182\n",
      "Test Recall:  0.8181818181818182\n",
      "Test F1 Score:  0.8181818181818182\n"
     ]
    }
   ],
   "source": [
    "import numpy as np\n",
    "import pandas as pd\n",
    "from sklearn.model_selection import train_test_split\n",
    "from sklearn.linear_model import LogisticRegression\n",
    "from sklearn.metrics import accuracy_score, precision_score, recall_score, f1_score\n",
    "import pickle\n",
    "\n",
    "# Cargar los datos\n",
    "data = pd.read_csv('heart15.csv')\n",
    "\n",
    "# Verificar los datos\n",
    "print(data.head())\n",
    "print(data['output'].value_counts())\n",
    "\n",
    "# Separar las características y la variable objetivo\n",
    "x = data.drop(columns='output', axis=1)\n",
    "y = data['output']\n",
    "\n",
    "# Dividir los datos en conjuntos de entrenamiento y prueba\n",
    "x_train, x_test, y_train, y_test = train_test_split(x, y, test_size=0.2, stratify=y, random_state=2)\n",
    "\n",
    "# Entrenar el modelo de regresión logística\n",
    "model = LogisticRegression(max_iter=1000)\n",
    "model.fit(x_train, y_train)\n",
    "\n",
    "# Evaluar el modelo\n",
    "x_train_prediction = model.predict(x_train)\n",
    "training_data_accuracy = accuracy_score(y_train, x_train_prediction)\n",
    "training_data_precision = precision_score(y_train, x_train_prediction)\n",
    "training_data_recall = recall_score(y_train, x_train_prediction)\n",
    "training_data_f1 = f1_score(y_train, x_train_prediction)\n",
    "\n",
    "print('Train Accuracy: ', training_data_accuracy)\n",
    "print('Train Precision: ', training_data_precision)\n",
    "print('Train Recall: ', training_data_recall)\n",
    "print('Train F1 Score: ', training_data_f1)\n",
    "\n",
    "x_test_prediction = model.predict(x_test)\n",
    "test_data_accuracy = accuracy_score(y_test, x_test_prediction)\n",
    "test_data_precision = precision_score(y_test, x_test_prediction)\n",
    "test_data_recall = recall_score(y_test, x_test_prediction)\n",
    "test_data_f1 = f1_score(y_test, x_test_prediction)\n",
    "\n",
    "print('Test Accuracy: ', test_data_accuracy)\n",
    "print('Test Precision: ', test_data_precision)\n",
    "print('Test Recall: ', test_data_recall)\n",
    "print('Test F1 Score: ', test_data_f1)\n",
    "\n",
    "# Guardar el modelo\n",
    "with open('heartAttackPrediction.pkl', 'wb') as file:\n",
    "    pickle.dump(model, file)\n"
   ]
  }
 ],
 "metadata": {
  "kernelspec": {
   "display_name": "base",
   "language": "python",
   "name": "python3"
  },
  "language_info": {
   "codemirror_mode": {
    "name": "ipython",
    "version": 3
   },
   "file_extension": ".py",
   "mimetype": "text/x-python",
   "name": "python",
   "nbconvert_exporter": "python",
   "pygments_lexer": "ipython3",
   "version": "3.12.2"
  }
 },
 "nbformat": 4,
 "nbformat_minor": 2
}
